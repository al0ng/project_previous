{
 "cells": [
  {
   "cell_type": "markdown",
   "metadata": {},
   "source": [
    "#  图片加载\n",
    "## 将gpm(P5)图片转为jpg"
   ]
  },
  {
   "cell_type": "code",
   "execution_count": 32,
   "metadata": {
    "collapsed": true
   },
   "outputs": [],
   "source": [
    "from PIL import Image\n",
    "import os, glob  \n",
    "  \n",
    "#P5 pgm to jpg\n",
    "def batch_image(in_dir, out_dir):  \n",
    "    if not os.path.exists(out_dir):  \n",
    "        print(out_dir, 'is not existed.')  \n",
    "        os.mkdir(out_dir)  \n",
    "      \n",
    "    if not os.path.exists(in_dir):  \n",
    "        print(in_dir, 'is not existed.')  \n",
    "        return -1  \n",
    " \n",
    "    for files in glob.glob(in_dir+'/*'):  \n",
    "        filepath, filename = os.path.split(files)    \n",
    "        out_file = filename.replace(\"_4.pgm\", \".jpg\")  \n",
    "        im = Image.open(files)\n",
    "        new_path = os.path.join(out_dir, out_file)   \n",
    "        im.save(os.path.join(out_dir, out_file)) \n",
    "\n",
    "        \n",
    "# outpath = \"C:\\\\Users\\\\chen\\\\Desktop\\\\face recognize\\\\data\\\\data_jpg\"\n",
    "# parent_path = \"C:\\\\Users\\\\chen\\\\Desktop\\\\face recognize\\\\data\\\\faces_4\"\n",
    "\n",
    "dir_lists = os.listdir(parent_path)\n",
    "for item in dir_lists:\n",
    "    sub_path = os.path.join(parent_path,item)\n",
    "    batch_image(sub_path, outpath)\n"
   ]
  },
  {
   "cell_type": "markdown",
   "metadata": {},
   "source": [
    "加载pgm（p2）到数组\n",
    "---"
   ]
  },
  {
   "cell_type": "markdown",
   "metadata": {},
   "source": [
    "### 将128*120大小的pgm(p2)从其他文件中中的单独取出"
   ]
  },
  {
   "cell_type": "code",
   "execution_count": 21,
   "metadata": {},
   "outputs": [],
   "source": [
    "from PIL import Image\n",
    "import os, glob, shutil\n",
    "\n",
    "# p2_path = \"C:\\\\Users\\\\chen\\\\Desktop\\\\face recognize\\\\data\\\\faces\"\n",
    "# p2_outpath = \"C:\\\\Users\\\\chen\\\\Desktop\\\\face recognize\\\\data\\\\data_128_120\"\n",
    "\n",
    "p2_images_dir = os.listdir(p2_path)\n",
    "\n",
    "target_files = []\n",
    "target_files_path = []\n",
    "for item in p2_images_dir:\n",
    "    parents_dir = os.path.join(p2_path,item)\n",
    "    for files in glob.glob(parents_dir+'/*'): #glob.glob()获取当前文件夹下的文件\n",
    "        #print(files)\n",
    "        #C:\\Users\\chen\\Desktop\\face recognize\\data\\faces\\an2i\\an2i_left_angry_open.pgm\n",
    "        #C:\\Users\\chen\\Desktop\\face recognize\\data\\faces\\an2i\\an2i_left_angry_open_2.pgm\n",
    "        filepath, filename = os.path.split(files)\n",
    "        if(len(filename.split(\"_\")) == 4):\n",
    "            #说明该文件为an2i_left_angry_open.pgm 后缀不含'_2' '_4'\n",
    "            target_files_path.append(filepath)\n",
    "            target_files.append(filename)\n",
    "\n",
    "for index in range(0, len(target_files)):\n",
    "    shutil.copy(target_files_path[index]+\"\\\\\"+target_files[index], p2_outpath+\"\\\\\"+target_files[index])       "
   ]
  },
  {
   "cell_type": "code",
   "execution_count": 1,
   "metadata": {},
   "outputs": [
    {
     "name": "stdout",
     "output_type": "stream",
     "text": [
      "['.anonr', 'an2i', 'at33', 'boland', 'bpm', 'ch4f', 'cheyer', 'choon', 'danieln', 'glickman', 'karyadi', 'kawamura', 'kk49', 'megak', 'mitchell', 'night', 'phoebe', 'saavik', 'steffi', 'sz24', 'tammo']\n"
     ]
    }
   ],
   "source": [
    "from PIL import Image\n",
    "import os, glob \n",
    "\n",
    "p2_path = \"C:\\Users\\chen\\Desktop\\face recognize\\data\\data_128_120\"\n",
    "p2_images_dir = os.listdir(p2_path)\n",
    "# for item in dir_lists:\n",
    "#     sub_path = os.path.join(parent_path,item)\n",
    "#     batch_image(sub_path, outpath)\n",
    "\n",
    "# im = Image.open(files)\n",
    "print(p2_images)"
   ]
  },
  {
   "cell_type": "markdown",
   "metadata": {},
   "source": [
    "### P2 pgm的转换"
   ]
  },
  {
   "cell_type": "raw",
   "metadata": {},
   "source": [
    "import numpy as np\n",
    "import matplotlib.pyplot as plt\n",
    "\n",
    "def readpgm(name):\n",
    "    with open(name) as f:\n",
    "        \n",
    "        lines = f.readlines()\n",
    "#     print(lines)\n",
    "    # Ignores commented lines\n",
    "    for l in list(lines):\n",
    "        if l[0] == '#':\n",
    "            lines.remove(l)\n",
    "\n",
    "    # Makes sure it is ASCII format (P2)\n",
    "    assert lines[0].strip() == 'P2' \n",
    "\n",
    "    # Converts data to a list of integers\n",
    "    data = []\n",
    "    for line in lines[1:]:\n",
    "        data.extend([int(c) for c in line.split()])\n",
    "\n",
    "    return (np.array(data[3:]),(data[1],data[0]),data[2])\n",
    "\n",
    "filepath = 'C:\\\\Users\\\\chen\\\\Desktop\\\\www.cs.cmu.edu\\\\afs\\\\cs.cmu.edu\\\\project\\\\theo-8\\\\faceimages\\\\faces\\\\an2i\\\\an2i_left_angry_open.pgm'\n",
    "data = readpgm(filepath)\n",
    "plt.imshow(np.reshape(data[0],data[1])) # Usage example"
   ]
  },
  {
   "cell_type": "raw",
   "metadata": {},
   "source": [
    "# import numpy as np\n",
    "import matplotlib.pyplot as plt\n",
    "\n",
    "def readpgm(name):\n",
    "    with open(name) as f:\n",
    "         lines = f.readlines()\n",
    "\n",
    "    # Ignores commented lines\n",
    "    for l in list(lines):\n",
    "            if l[0] == '#':\n",
    "                lines.remove(l)\n",
    "\n",
    "    # Makes sure it is ASCII format (P2)\n",
    "    assert lines[0].strip() == 'P2' \n",
    "\n",
    "    # Converts data to a list of integers\n",
    "    data = []\n",
    "    for line in lines[1:]:\n",
    "        data.extend([int(c) for c in line.split()])\n",
    "\n",
    "    return (np.array(data[3:]),(data[1],data[0]),data[2])\n",
    "\n",
    "\n",
    "filepath = 'C:\\\\Users\\\\chen\\\\Desktop\\\\www.cs.cmu.edu\\\\afs\\\\cs.cmu.edu\\\\project\\\\theo-8\\\\faceimages\\\\faces\\\\an2i\\\\an2i_left_angry_open.pgm'\n",
    "data = readpgm(filepath)\n",
    "plt.imshow(np.reshape(data[0],data[1])) # Usage example"
   ]
  },
  {
   "cell_type": "code",
   "execution_count": null,
   "metadata": {
    "collapsed": true
   },
   "outputs": [],
   "source": []
  }
 ],
 "metadata": {
  "kernelspec": {
   "display_name": "Python 3",
   "language": "python",
   "name": "python3"
  },
  "language_info": {
   "codemirror_mode": {
    "name": "ipython",
    "version": 3
   },
   "file_extension": ".py",
   "mimetype": "text/x-python",
   "name": "python",
   "nbconvert_exporter": "python",
   "pygments_lexer": "ipython3",
   "version": "3.6.3"
  }
 },
 "nbformat": 4,
 "nbformat_minor": 2
}

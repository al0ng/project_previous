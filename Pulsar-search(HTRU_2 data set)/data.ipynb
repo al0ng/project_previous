{
 "cells": [
  {
   "cell_type": "code",
   "execution_count": 18,
   "metadata": {},
   "outputs": [],
   "source": [
    "%matplotlib inline\n",
    "import matplotlib.pyplot as plt\n",
    "import pandas as pd\n",
    "import numpy as np\n",
    "np.set_printoptions(suppress=True)\n",
    "import warnings\n",
    "warnings.filterwarnings(\"ignore\")\n",
    "# import random\n",
    "\n",
    "def load_csv():\n",
    "    #dataPath = \"C:\\\\project\\\\AnacondaProjects\\\\task1\\\\HTRU_2\\\\HTRU_2.csv\"\n",
    "    dataPath = \"/home/ts/项目测试/HTRU_2/HTRU_2.csv\"\n",
    "    data =pd.read_csv(dataPath) #返回的是DataFrame变量\n",
    "    # first_rows = data.head(1) #返回前n条数据,默认返回5条\n",
    "    cols = data.columns #返回全部列名\n",
    "    dimensison = data.shape #返回数据的格式，数组，（行数，列数）\n",
    "    # data.values #返回底层的numpy数据\n",
    "    row_data = np.array(data.as_matrix())#转化为矩阵\n",
    "    return row_data"
   ]
  },
  {
   "cell_type": "code",
   "execution_count": 7,
   "metadata": {},
   "outputs": [],
   "source": [
    "#不考虑训练集中正反例比例\n",
    "def load_data():\n",
    "    row_data = load_csv()\n",
    "    data_size = len(row_data)\n",
    "    print(\"data size:\", data_size)\n",
    "    train_set = []\n",
    "    test_set = []\n",
    "    \n",
    "    #np.random.shuffle(row_data) #打乱数据集\n",
    "    \n",
    "    train_size = (int)(0.7*data_size)\n",
    "    train_set = row_data[0: train_size]\n",
    "    test_set = row_data[train_size: data_size]\n",
    "    test_size = len(test_set)\n",
    "    \n",
    "    print(\"train_set size:\", len(train_set))\n",
    "    print(\"test_set size:\", len(test_set))\n",
    "    #train_set_X, train_set_Y, test_set_X, test_set_Y\n",
    "    return train_set.T[0:8].T, train_set.T[8:9].T.astype(int), test_set.T[0:8].T, test_set.T[8:9].T.astype(int)"
   ]
  },
  {
   "cell_type": "markdown",
   "metadata": {},
   "source": [
    "未shuffle版"
   ]
  },
  {
   "cell_type": "code",
   "execution_count": 51,
   "metadata": {},
   "outputs": [],
   "source": [
    "#按比例划分数据集\n",
    "def load_data_by_percentage(n): \n",
    "    #固定大小的训练集和测试集\n",
    "    train_set_size = 2294\n",
    "    test_set_size = 1000\n",
    "    \n",
    "    p_test_size = 100\n",
    "    n_test_size = 900\n",
    "\n",
    "    row_data = load_csv()\n",
    "    #取出样本中的正例和负例\n",
    "    positive_set = []\n",
    "    negative_set = []\n",
    "    for row in row_data:\n",
    "        if row[8] == 1:#第九列\n",
    "            positive_set.append(row)\n",
    "        else:\n",
    "            negative_set.append(row)\n",
    "            \n",
    "    #训练集中正负样本比例为 1：n\n",
    "    p_train_size = int(train_set_size * 1/(1+n))#向下取整\n",
    "    #训练集大小固定\n",
    "    n_train_size = train_set_size - p_train_size\n",
    "    \n",
    "    #每次测试集都是相同的\n",
    "    #确定测试集,从正/负样本集中取前面部分放入测试集\n",
    "    test_set = []\n",
    "    test_set = positive_set[0:p_test_size]\n",
    "    test_set = np.append(test_set, negative_set[0:n_test_size], axis=0)\n",
    "    \n",
    "    #print(len(positive_set))    \n",
    "    #print(len(negative_set))\n",
    "    #把前面部分去掉\n",
    "    positive_set = positive_set[p_test_size: len(positive_set)]#去掉一百个\n",
    "    negative_set = negative_set[n_test_size: len(negative_set)]#去掉一千个\n",
    "    #print(len(positive_set))    \n",
    "    #print(len(negative_set))\n",
    "    np.random.shuffle(positive_set) #打乱\n",
    "    np.random.shuffle(negative_set) \n",
    "\n",
    "\n",
    "    #往训练中添加 正/负例\n",
    "    train_set = []\n",
    "    train_set = positive_set[0:p_train_size]\n",
    "    train_set = np.append(train_set, negative_set[0:n_train_size], axis=0)\n",
    "    \n",
    "    print(\"train_set size:\", len(train_set))\n",
    "    print(\"including positive case:\",p_train_size)\n",
    "    print(\"including negative case :\",n_train_size)\n",
    "    \n",
    "    print(\"test_set size:\", len(test_set))\n",
    "    print(\"including positive case:\",p_test_size)\n",
    "    print(\"including negative case :\",n_test_size)\n",
    "\n",
    "    return train_set.T[0:8].T, train_set.T[8:9].T.astype(int), test_set.T[0:8].T, test_set.T[8:9].T.astype(int)"
   ]
  },
  {
   "cell_type": "markdown",
   "metadata": {},
   "source": [
    "shuffle"
   ]
  },
  {
   "cell_type": "code",
   "execution_count": null,
   "metadata": {},
   "outputs": [],
   "source": [
    "#返回不同正负利比率的训练集: 1:n\n",
    "def load_data_by_percentage(n):  \n",
    "    row_data = load_csv()\n",
    "    positive_set = []\n",
    "    negative_set = []\n",
    "    for row in row_data:\n",
    "        if row[8] == 1:#第九列\n",
    "            positive_set.append(row)\n",
    "        else:\n",
    "            negative_set.append(row)\n",
    "    \n",
    "    p_size = len(positive_set)\n",
    "    n_size = len(negative_set)\n",
    "    \n",
    "    p_train_size = int(p_size * 0.7)#向下取整\n",
    "    p_test_size = p_size - p_train_size\n",
    "    n_train_size = p_train_size * n #比例位 1：n\n",
    "    n_test_size = n_size - n_train_size\n",
    "    \n",
    "    np.random.shuffle(positive_set) #打乱数据集\n",
    "    np.random.shuffle(negative_set) \n",
    "    \n",
    "    positive_set = np.array(positive_set)\n",
    "    negative_set = np.array(negative_set)\n",
    "    #print(positive_set.shape)    \n",
    "    #print(negative_set.shape)\n",
    "\n",
    "    train_set = positive_set[0:p_train_size]\n",
    "    test_set = positive_set[0:p_test_size]\n",
    "    #print(train_set.shape)    \n",
    "    #print(train_set.shape)\n",
    "    train_set = np.append(train_set, negative_set[0:n_train_size], axis=0)    \n",
    "    test_set = np.append(test_set, negative_set[0:n_train_size], axis=0)\n",
    "    #print(train_set.shape)    \n",
    "    #print(train_set.shape)\n",
    "    \n",
    "    print(\"train_set size:\", len(train_set))\n",
    "    print(\"including positive case:\",p_train_size)\n",
    "    print(\"including negative case :\",n_train_size)\n",
    "    \n",
    "    return train_set.T[0:8].T, train_set.T[8:9].T.astype(int), test_set.T[0:8].T, test_set.T[8:9].T.astype(int)"
   ]
  },
  {
   "cell_type": "code",
   "execution_count": 55,
   "metadata": {},
   "outputs": [],
   "source": [
    "#按比例划分数据集\n",
    "def load_data_by_percentage_2(n): \n",
    "    #固定大小的训练集和测试集\n",
    "    train_set_size = 2294\n",
    "    test_set_size = 1000\n",
    "    \n",
    "    p_test_size = 100\n",
    "    n_test_size = 900\n",
    "\n",
    "    row_data = load_csv()\n",
    "    #取出样本中的正例和负例\n",
    "    positive_set = []\n",
    "    negative_set = []\n",
    "    for row in row_data:\n",
    "        if row[8] == 1:#第九列\n",
    "            positive_set.append(row)\n",
    "        else:\n",
    "            negative_set.append(row)\n",
    "            \n",
    "    #训练集中正负样本比例为 1：n\n",
    "    p_train_size = int(train_set_size * 1/(1+n))#向下取整\n",
    "    #训练集大小固定\n",
    "    n_train_size = train_set_size - p_train_size\n",
    "    \n",
    "    np.random.shuffle(positive_set) #打乱\n",
    "    np.random.shuffle(negative_set) \n",
    "    #print(len(positive_set))    \n",
    "    #print(len(negative_set))\n",
    "    train_set = []\n",
    "    test_set = []\n",
    "\n",
    "    #往训练/测试集中添加 正例\n",
    "    train_set = positive_set[0:p_train_size]\n",
    "    test_set = positive_set[p_train_size:(p_train_size + p_test_size)]#从剩下的中取100个\n",
    "    #print(len(train_set))    \n",
    "    #print(len(test_set))\n",
    "    #往训练/测试集中添加 负例\n",
    "    train_set = np.append(train_set, negative_set[0:n_train_size], axis=0)    \n",
    "    test_set = np.append(test_set, negative_set[n_train_size:(n_train_size + n_test_size)], axis=0)\n",
    "    #print(train_set.shape)    \n",
    "    #print(test_set.shape)\n",
    "    \n",
    "    print(\"train_set size:\", len(train_set))\n",
    "    print(\"including positive case:\",p_train_size)\n",
    "    print(\"including negative case :\",n_train_size)\n",
    "    \n",
    "    return train_set.T[0:8].T, train_set.T[8:9].T.astype(int), test_set.T[0:8].T, test_set.T[8:9].T.astype(int)"
   ]
  },
  {
   "cell_type": "code",
   "execution_count": 52,
   "metadata": {},
   "outputs": [
    {
     "name": "stdout",
     "output_type": "stream",
     "text": [
      "train_set size: 2294\n",
      "including positive case: 1147\n",
      "including negative case : 1147\n",
      "test_set size: 1000\n",
      "including positive case: 100\n",
      "including negative case : 900\n"
     ]
    }
   ],
   "source": [
    "#1：1情况下\n",
    "train_set_X, train_set_Y, test_set_X, test_set_Y = load_data_by_percentage(1)\n",
    "# train_set, test_set = load_data_by_percentage(1)"
   ]
  },
  {
   "cell_type": "code",
   "execution_count": 53,
   "metadata": {},
   "outputs": [
    {
     "name": "stdout",
     "output_type": "stream",
     "text": [
      "train_set size: 2294\n",
      "including positive case: 764\n",
      "including negative case : 1530\n",
      "test_set size: 1000\n",
      "including positive case: 100\n",
      "including negative case : 900\n"
     ]
    }
   ],
   "source": [
    "#1：2情况下\n",
    "train_set_X, train_set_Y, test_set_X, test_set_Y = load_data_by_percentage(2)"
   ]
  },
  {
   "cell_type": "code",
   "execution_count": 12,
   "metadata": {
    "scrolled": true
   },
   "outputs": [
    {
     "name": "stdout",
     "output_type": "stream",
     "text": [
      "data size: 17897\n",
      "train_set size: 12527\n",
      "test_set size: 5370\n",
      "[[102.5078125   58.88243001   0.46531815  -0.51508791   1.67725752\n",
      "   14.86014572  10.57648674 127.3935796 ]\n",
      " [103.015625    39.34164944   0.32332837   1.05116443   3.12123746\n",
      "   21.74466875   7.73582202  63.17190911]\n",
      " [136.75        57.17844874  -0.06841464  -0.63623837   3.64297659\n",
      "   20.9592803    6.89649891  53.59366067]]\n",
      "---------------\n",
      "[[103.015625    39.34164944   0.32332837   1.05116443   3.12123746\n",
      "   21.74466875   7.73582202  63.17190911]\n",
      " [136.75        57.17844874  -0.06841464  -0.63623837   3.64297659\n",
      "   20.9592803    6.89649891  53.59366067]\n",
      " [102.5078125   58.88243001   0.46531815  -0.51508791   1.67725752\n",
      "   14.86014572  10.57648674 127.3935796 ]]\n"
     ]
    }
   ],
   "source": [
    "train_set_X, train_set_Y, test_set_X, test_set_Y = load_data()\n",
    "# print(train_set_X.shape)\n",
    "# print(train_set_Y.shape)\n",
    "# print(test_set_X.shape)\n",
    "# print(test_set_Y.shape)\n",
    "print(train_set_X[0:3])\n",
    "print(\"---------------\")\n",
    "np.random.shuffle(train_set_X[0:3])\n",
    "print(train_set_X[0:3])\n",
    "# print(train_set_Y[0:100])\n",
    "# print(test_set_X[0:3])\n",
    "# print(test_set_Y[0:3])"
   ]
  },
  {
   "cell_type": "code",
   "execution_count": 73,
   "metadata": {},
   "outputs": [],
   "source": [
    "def load_for_novelty_detection():\n",
    "    row_data = load_csv()\n",
    "    #取出样本中的正例和负例\n",
    "    positive_set = []\n",
    "    negative_set = []\n",
    "    for row in row_data:\n",
    "        if row[8] == 1:#第九列\n",
    "            positive_set.append(row)\n",
    "        else:\n",
    "            negative_set.append(row)\n",
    "        \n",
    "    np.random.shuffle(positive_set) #打乱\n",
    "    np.random.shuffle(negative_set)\n",
    "    \n",
    "    train_size = int(len(negative_set)* 0.7)#与任务一保持相同的训练集负例数目\n",
    "    test_size = int(len(row_data)* 0.3)#与任务一保持相同的测试集大小\n",
    "    p_test_size = int(test_size*0.1)\n",
    "    n_test_size = int(test_size*0.9)\n",
    "    \n",
    "    train_set = negative_set[0:train_size]\n",
    "    #测试集中加入负例\n",
    "    test_set = negative_set[train_size: (train_size+n_test_size)]#从后面接着取\n",
    "    #测试集中加入正例\n",
    "    test_set = np.append(test_set, positive_set[0:p_test_size], axis=0)\n",
    "    train_set = np.array(train_set)\n",
    "    return train_set.T[0:8].T, train_set.T[8:9].T.astype(int), test_set.T[0:8].T, test_set.T[8:9].T.astype(int)"
   ]
  },
  {
   "cell_type": "code",
   "execution_count": 74,
   "metadata": {},
   "outputs": [
    {
     "name": "stdout",
     "output_type": "stream",
     "text": [
      "-----------测试----------\n",
      "train_set中正例有： 0\n",
      "train_set中负例有： 11380\n",
      "test_set中正例有： 536\n",
      "test_set中负例有： 4832\n"
     ]
    }
   ],
   "source": [
    "#1：3情况下\n",
    "train_set_X, train_set_Y, test_set_X, test_set_Y = load_for_novelty_detection()\n",
    "\n",
    "#复测下\n",
    "print(\"-----------测试----------\")\n",
    "count_p = 0\n",
    "count_n = 0\n",
    "for i in range(0, len(train_set_Y)):\n",
    "    if train_set_Y[i] == 1:\n",
    "        count_p += 1\n",
    "    elif train_set_Y[i] == 0:\n",
    "        count_n += 1\n",
    "    else:\n",
    "        print(\"error!!!\")\n",
    "print(\"train_set中正例有：\", count_p)\n",
    "print(\"train_set中负例有：\", count_n)\n",
    "\n",
    "t_count_p = 0\n",
    "t_count_n = 0\n",
    "for i in range(0, len(test_set_Y)):\n",
    "    if test_set_Y[i] == 1:\n",
    "        t_count_p += 1\n",
    "    elif test_set_Y[i] == 0:\n",
    "        t_count_n += 1\n",
    "    else:\n",
    "        print(\"error!!!\")\n",
    "print(\"test_set中正例有：\", t_count_p)\n",
    "print(\"test_set中负例有：\", t_count_n)"
   ]
  },
  {
   "cell_type": "code",
   "execution_count": null,
   "metadata": {},
   "outputs": [],
   "source": []
  }
 ],
 "metadata": {
  "celltoolbar": "Raw Cell Format",
  "kernelspec": {
   "display_name": "Python 3",
   "language": "python",
   "name": "python3"
  },
  "language_info": {
   "codemirror_mode": {
    "name": "ipython",
    "version": 3
   },
   "file_extension": ".py",
   "mimetype": "text/x-python",
   "name": "python",
   "nbconvert_exporter": "python",
   "pygments_lexer": "ipython3",
   "version": "3.7.1"
  }
 },
 "nbformat": 4,
 "nbformat_minor": 2
}

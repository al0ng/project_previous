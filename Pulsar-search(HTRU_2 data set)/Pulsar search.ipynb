{
 "cells": [
  {
   "cell_type": "code",
   "execution_count": 1,
   "metadata": {},
   "outputs": [],
   "source": [
    "%matplotlib inline \n",
    "#在页面上绘图\n",
    "import numpy as np\n",
    "np.set_printoptions(suppress=True)#不已科学记数法输出\n",
    "import numpy as np\n",
    "import matplotlib.pyplot as plt\n",
    "import random\n",
    "import pandas as pd\n",
    "from pre_data import load_data\n",
    "from pre_data import load_data_by_percentage\n",
    "from pre_data import load_for_novelty_detection\n",
    "import warnings #不打印warning\n",
    "warnings.filterwarnings(\"ignore\")\n",
    "from sklearn.preprocessing import StandardScaler\n",
    "from sklearn import svm\n",
    "from sklearn.neural_network import MLPClassifier"
   ]
  },
  {
   "cell_type": "markdown",
   "metadata": {},
   "source": [
    "# 任务一:"
   ]
  },
  {
   "cell_type": "markdown",
   "metadata": {},
   "source": [
    "#### load训练集、测试集\n",
    "load_data()中已经对数据进行了shuffle"
   ]
  },
  {
   "cell_type": "code",
   "execution_count": 2,
   "metadata": {},
   "outputs": [
    {
     "name": "stdout",
     "output_type": "stream",
     "text": [
      "data size: 17898\n",
      "train_set size: 12528\n",
      "test_set size: 5370\n",
      "(12528, 8)\n",
      "(12528, 1)\n",
      "(5370, 8)\n",
      "(5370, 1)\n"
     ]
    }
   ],
   "source": [
    "train_set_X, train_set_Y, test_set_X, test_set_Y = load_data()\n",
    "\n",
    "assert len(train_set_X) == len(train_set_Y)\n",
    "assert len(test_set_X) == len(test_set_Y)\n",
    "print(train_set_X.shape)\n",
    "print(train_set_Y.shape)\n",
    "print(test_set_X.shape)\n",
    "print(test_set_Y.shape)"
   ]
  },
  {
   "cell_type": "markdown",
   "metadata": {},
   "source": [
    "#### 数据标准化处理\n",
    "将各个特征的取值进行标准化"
   ]
  },
  {
   "cell_type": "code",
   "execution_count": 3,
   "metadata": {},
   "outputs": [
    {
     "name": "stdout",
     "output_type": "stream",
     "text": [
      "[130.578125  130.296875   48.8046875 ... 107.3359375 116.453125\n",
      " 130.6875   ]\n",
      "[ 0.76503413  0.75407596 -2.4210543  ... -0.14053701  0.21469039\n",
      "  0.76929564]\n"
     ]
    }
   ],
   "source": [
    "std = StandardScaler()\n",
    "print(train_set_X.T[0])\n",
    "train_set_X = std.fit_transform(train_set_X)\n",
    "test_set_X = std.fit_transform(test_set_X)\n",
    "print(train_set_X.T[0])"
   ]
  },
  {
   "cell_type": "markdown",
   "metadata": {},
   "source": [
    "#### 定义模型评分准则: precision / recall"
   ]
  },
  {
   "cell_type": "code",
   "execution_count": 4,
   "metadata": {},
   "outputs": [],
   "source": [
    "def get_score(classify_method, test_X, test_Y):\n",
    "    TP = 0\n",
    "    FP = 0\n",
    "    FN = 0\n",
    "    TN = 0\n",
    "    #print(len(test_set_X))\n",
    "    for i in range(0,len(test_X)):\n",
    "        \n",
    "        predict_class = classify_method.predict(test_X[i].reshape(1,8))[0]\n",
    "        real_class = test_Y[i]\n",
    "        \n",
    "        if predict_class == 1 and real_class == 1:\n",
    "            TP += 1\n",
    "        elif predict_class == 1 and real_class == 0:\n",
    "            FP += 1\n",
    "        elif predict_class == 0 and real_class == 1:\n",
    "            FN += 1\n",
    "        elif predict_class == 0 and real_class == 0:\n",
    "            TN += 1\n",
    "    #print(\"TP | FP\")\n",
    "    #print(TP,\"\",FP)    \n",
    "    #print(\"FN | TN\")\n",
    "    #print(FN,\"\", TN)\n",
    "    if (TP + FP)==0 or (TP+FN)==0 :\n",
    "        return 0, 0, 0\n",
    "    precision = TP /(TP + FP)#精确率\n",
    "    recall = TP / (TP + FN)#召回率\n",
    "    #print(\"precision：%.3f%%\"%(precision*100))\n",
    "    #print(\"recall：%.3f%%\"%(recall*100))\n",
    "    F1 = (2 * precision * recall)/(precision + recall)\n",
    "    return F1, precision, recall\n",
    "\n",
    "def result_print(classify_method, test_X, test_Y):\n",
    "    F1, precision, recall = get_score(classify_method, test_X, test_Y)\n",
    "    print(\"F1：%.3f\"%F1)"
   ]
  },
  {
   "cell_type": "markdown",
   "metadata": {},
   "source": [
    "#### 选择分类模型\n",
    "使用scikit-learn中全连接的人工神经MLPClassifier进行分类"
   ]
  },
  {
   "cell_type": "code",
   "execution_count": 9,
   "metadata": {},
   "outputs": [
    {
     "name": "stdout",
     "output_type": "stream",
     "text": [
      "F1：0.881\n"
     ]
    }
   ],
   "source": [
    "nn_clf = MLPClassifier()\n",
    "nn_clf.fit(train_set_X,train_set_Y)\n",
    "result_print(nn_clf, test_set_X, test_set_Y)"
   ]
  },
  {
   "cell_type": "markdown",
   "metadata": {},
   "source": [
    "隐藏层取不同隐藏层节点数目模型的表现"
   ]
  },
  {
   "cell_type": "code",
   "execution_count": 13,
   "metadata": {},
   "outputs": [
    {
     "data": {
      "image/png": "[encoded data removed]",
      "text/plain": [
       "<Figure size 432x288 with 1 Axes>"
      ]
     },
     "metadata": {
      "needs_background": "light"
     },
     "output_type": "display_data"
    }
   ],
   "source": [
    "models_layer = (MLPClassifier(hidden_layer_sizes=(10)),\n",
    "                MLPClassifier(hidden_layer_sizes=(15)),\n",
    "                MLPClassifier(hidden_layer_sizes=(20)),\n",
    "                MLPClassifier(hidden_layer_sizes=(25)),\n",
    "                MLPClassifier(hidden_layer_sizes=(30))\n",
    "               )\n",
    "models_layer = (nn_clf.fit(train_set_X, train_set_Y) for nn_clf in models_layer)\n",
    "plt.ylabel('F1')\n",
    "plt.xlabel('Size')\n",
    "x = [10, 15, 20, 25, 30]\n",
    "y = []\n",
    "for nn_clf in models_layer:\n",
    "    F1, precision, recall = get_score(nn_clf, test_set_X, test_set_Y)\n",
    "    y.append(F1)\n",
    "plt.plot(x, y, 'r+-.', linewidth=1, markersize=12)\n",
    "plt.show()"
   ]
  },
  {
   "cell_type": "markdown",
   "metadata": {},
   "source": [
    "学习率alpha取不同值时模型的表现"
   ]
  },
  {
   "cell_type": "code",
   "execution_count": 54,
   "metadata": {},
   "outputs": [
    {
     "data": {
      "image/png": "[encoded data removed]",
      "text/plain": [
       "<Figure size 432x288 with 1 Axes>"
      ]
     },
     "metadata": {
      "needs_background": "light"
     },
     "output_type": "display_data"
    }
   ],
   "source": [
    "models_alpha = (MLPClassifier(hidden_layer_sizes=(10,), alpha = 0.0001),\n",
    "               MLPClassifier(hidden_layer_sizes=(10,), alpha = 0.001),\n",
    "                MLPClassifier(hidden_layer_sizes=(10,), alpha = 0.01),\n",
    "                MLPClassifier(hidden_layer_sizes=(10,), alpha = 0.1),\n",
    "                MLPClassifier(hidden_layer_sizes=(10,), alpha = 1),\n",
    "               )\n",
    "models_alpha = (nn_clf.fit(train_set_X, train_set_Y) for nn_clf in models_alpha)\n",
    "plt.ylabel('F1')\n",
    "plt.xlabel('Alpha')\n",
    "x_alpha = [0.00001, 0.0001, 0.001, 0.01, 0.1]\n",
    "y_alpha = []\n",
    "for nn_clf in models_alpha:\n",
    "    F1, precision, recall = get_score(nn_clf, test_set_X, test_set_Y)\n",
    "    y_alpha.append(F1)\n",
    "plt.plot(x_alpha, y_alpha, 'r+-.', linewidth=1, markersize=12)\n",
    "plt.show()"
   ]
  },
  {
   "cell_type": "markdown",
   "metadata": {},
   "source": [
    "L2正则化项系数λ取不同值时模型的表现"
   ]
  },
  {
   "cell_type": "code",
   "execution_count": 15,
   "metadata": {},
   "outputs": [
    {
     "data": {
      "image/png": "[encoded data removed]",
      "text/plain": [
       "<Figure size 432x288 with 1 Axes>"
      ]
     },
     "metadata": {
      "needs_background": "light"
     },
     "output_type": "display_data"
    }
   ],
   "source": [
    "models_lambda = (\n",
    "                MLPClassifier(hidden_layer_sizes=(10,), beta_2= 0),\n",
    "                MLPClassifier(hidden_layer_sizes=(10,), beta_2= 0.2),\n",
    "               MLPClassifier(hidden_layer_sizes=(10,), beta_2= 0.4),\n",
    "                MLPClassifier(hidden_layer_sizes=(10,), beta_2= 0.6),\n",
    "                MLPClassifier(hidden_layer_sizes=(10,), beta_2= 0.8),\n",
    "               )\n",
    "models_lambda = (nn_clf.fit(train_set_X, train_set_Y) for nn_clf in models_lambda)\n",
    "plt.ylabel('F1')\n",
    "plt.xlabel('Lambda')\n",
    "x_lambda = np.arange(0, 1, 0.2)\n",
    "y_lambda = []\n",
    "for nn_clf in models_lambda:\n",
    "    F1, precision, recall = get_score(nn_clf, test_set_X, test_set_Y)\n",
    "    y_lambda.append(F1)\n",
    "plt.plot(x_lambda, y_lambda, 'r+-.', linewidth=1, markersize=12)\n",
    "plt.show()"
   ]
  },
  {
   "cell_type": "markdown",
   "metadata": {},
   "source": [
    "不加L2正则化造成的overfitting情况"
   ]
  },
  {
   "cell_type": "code",
   "execution_count": 31,
   "metadata": {},
   "outputs": [
    {
     "name": "stdout",
     "output_type": "stream",
     "text": [
      "TP | FP\n",
      "0  0\n",
      "FN | TN\n",
      "522  4848\n",
      "F1：0.000\n"
     ]
    }
   ],
   "source": [
    "nn_clf_overfitting = MLPClassifier(hidden_layer_sizes=(10,10), beta_2= 0.0) #令λ = 0\n",
    "nn_clf_overfitting.fit(train_set_X, train_set_Y)\n",
    "result_print(nn_clf_overfitting)"
   ]
  },
  {
   "cell_type": "markdown",
   "metadata": {},
   "source": [
    "修改其它超参数情况下人工神经网络的表现"
   ]
  },
  {
   "cell_type": "code",
   "execution_count": 78,
   "metadata": {},
   "outputs": [],
   "source": [
    "models = (\n",
    "        MLPClassifier(hidden_layer_sizes=(10,10), alpha = 0.0001,  beta_2= 0.99),\n",
    "          MLPClassifier(hidden_layer_sizes=(10,5,5), alpha = 0.0001,  beta_2= 0.99),\n",
    "          MLPClassifier(hidden_layer_sizes=(8,10,5), alpha = 0.0001,  beta_2= 0.99),\n",
    "          MLPClassifier(hidden_layer_sizes=(15,8), alpha = 0.0001,  beta_2= 0.99),\n",
    "          MLPClassifier(hidden_layer_sizes=(10,),activation='relu', alpha = 0.0001,  beta_2= 0.99),\n",
    "          MLPClassifier(hidden_layer_sizes=(10,),activation='identity', alpha = 0.0001,  beta_2= 0.99),\n",
    "          MLPClassifier(hidden_layer_sizes=(10,),activation='logistic', alpha = 0.0001,  beta_2= 0.99),\n",
    "          MLPClassifier(hidden_layer_sizes=(10,),activation='tanh', alpha = 0.0001,  beta_2= 0.99),\n",
    "         )\n",
    "models = (svc_clf.fit(train_set_X, train_set_Y) for svc_clf in models)"
   ]
  },
  {
   "cell_type": "code",
   "execution_count": 79,
   "metadata": {},
   "outputs": [
    {
     "name": "stdout",
     "output_type": "stream",
     "text": [
      "model: 1 :\n",
      "F1：0.877\n",
      "model: 2 :\n",
      "F1：0.884\n",
      "model: 3 :\n",
      "F1：0.877\n",
      "model: 4 :\n",
      "F1：0.881\n",
      "model: 5 :\n",
      "F1：0.879\n",
      "model: 6 :\n",
      "F1：0.871\n",
      "model: 7 :\n",
      "F1：0.876\n",
      "model: 8 :\n",
      "F1：0.876\n"
     ]
    }
   ],
   "source": [
    "count = 0\n",
    "for nn_clf in models:\n",
    "    count += 1\n",
    "    print(\"model:\", count, \":\")\n",
    "    result_print(nn_clf)"
   ]
  },
  {
   "cell_type": "markdown",
   "metadata": {},
   "source": [
    "对任务一下测试下sklearn中的SVM的表现"
   ]
  },
  {
   "cell_type": "code",
   "execution_count": 80,
   "metadata": {},
   "outputs": [
    {
     "name": "stdout",
     "output_type": "stream",
     "text": [
      "F1：0.872\n"
     ]
    }
   ],
   "source": [
    "svc_clf = svm.SVC()\n",
    "svc_clf.fit(train_set_X, train_set_Y)\n",
    "result_print(svc_clf)"
   ]
  },
  {
   "cell_type": "markdown",
   "metadata": {},
   "source": [
    "# 任务二:"
   ]
  },
  {
   "cell_type": "markdown",
   "metadata": {},
   "source": [
    "加载不同正负例比例的训练集，并进行训练和评分"
   ]
  },
  {
   "cell_type": "code",
   "execution_count": 30,
   "metadata": {},
   "outputs": [
    {
     "name": "stdout",
     "output_type": "stream",
     "text": [
      "1 : 1\n",
      "train_set size: 2294\n",
      "including positive case: 1147\n",
      "including negative case : 1147\n",
      "test_set size: 1000\n",
      "including positive case: 400\n",
      "including negative case : 600\n",
      "F1：0.912\n",
      "1 : 2\n",
      "train_set size: 2294\n",
      "including positive case: 764\n",
      "including negative case : 1530\n",
      "test_set size: 1000\n",
      "including positive case: 400\n",
      "including negative case : 600\n",
      "F1：0.909\n",
      "1 : 3\n",
      "train_set size: 2294\n",
      "including positive case: 573\n",
      "including negative case : 1721\n",
      "test_set size: 1000\n",
      "including positive case: 400\n",
      "including negative case : 600\n",
      "F1：0.865\n",
      "1 : 4\n",
      "train_set size: 2294\n",
      "including positive case: 458\n",
      "including negative case : 1836\n",
      "test_set size: 1000\n",
      "including positive case: 400\n",
      "including negative case : 600\n",
      "F1：0.851\n",
      "1 : 5\n",
      "train_set size: 2294\n",
      "including positive case: 382\n",
      "including negative case : 1912\n",
      "test_set size: 1000\n",
      "including positive case: 400\n",
      "including negative case : 600\n",
      "F1：0.821\n",
      "1 : 6\n",
      "train_set size: 2294\n",
      "including positive case: 327\n",
      "including negative case : 1967\n",
      "test_set size: 1000\n",
      "including positive case: 400\n",
      "including negative case : 600\n",
      "F1：0.806\n",
      "1 : 7\n",
      "train_set size: 2294\n",
      "including positive case: 286\n",
      "including negative case : 2008\n",
      "test_set size: 1000\n",
      "including positive case: 400\n",
      "including negative case : 600\n",
      "F1：0.766\n",
      "1 : 8\n",
      "train_set size: 2294\n",
      "including positive case: 254\n",
      "including negative case : 2040\n",
      "test_set size: 1000\n",
      "including positive case: 400\n",
      "including negative case : 600\n",
      "F1：0.748\n",
      "1 : 9\n",
      "train_set size: 2294\n",
      "including positive case: 229\n",
      "including negative case : 2065\n",
      "test_set size: 1000\n",
      "including positive case: 400\n",
      "including negative case : 600\n",
      "F1：0.736\n",
      "1 : 10\n",
      "train_set size: 2294\n",
      "including positive case: 208\n",
      "including negative case : 2086\n",
      "test_set size: 1000\n",
      "including positive case: 400\n",
      "including negative case : 600\n",
      "F1：0.728\n",
      "1 : 11\n",
      "train_set size: 2294\n",
      "including positive case: 191\n",
      "including negative case : 2103\n",
      "test_set size: 1000\n",
      "including positive case: 400\n",
      "including negative case : 600\n",
      "F1：0.720\n",
      "1 : 12\n",
      "train_set size: 2294\n",
      "including positive case: 176\n",
      "including negative case : 2118\n",
      "test_set size: 1000\n",
      "including positive case: 400\n",
      "including negative case : 600\n",
      "F1：0.708\n",
      "1 : 13\n",
      "train_set size: 2294\n",
      "including positive case: 163\n",
      "including negative case : 2131\n",
      "test_set size: 1000\n",
      "including positive case: 400\n",
      "including negative case : 600\n",
      "F1：0.673\n",
      "1 : 14\n",
      "train_set size: 2294\n",
      "including positive case: 152\n",
      "including negative case : 2142\n",
      "test_set size: 1000\n",
      "including positive case: 400\n",
      "including negative case : 600\n",
      "F1：0.684\n",
      "1 : 15\n",
      "train_set size: 2294\n",
      "including positive case: 143\n",
      "including negative case : 2151\n",
      "test_set size: 1000\n",
      "including positive case: 400\n",
      "including negative case : 600\n",
      "F1：0.680\n",
      "1 : 16\n",
      "train_set size: 2294\n",
      "including positive case: 134\n",
      "including negative case : 2160\n",
      "test_set size: 1000\n",
      "including positive case: 400\n",
      "including negative case : 600\n",
      "F1：0.637\n",
      "1 : 17\n",
      "train_set size: 2294\n",
      "including positive case: 127\n",
      "including negative case : 2167\n",
      "test_set size: 1000\n",
      "including positive case: 400\n",
      "including negative case : 600\n",
      "F1：0.577\n",
      "1 : 18\n",
      "train_set size: 2294\n",
      "including positive case: 120\n",
      "including negative case : 2174\n",
      "test_set size: 1000\n",
      "including positive case: 400\n",
      "including negative case : 600\n",
      "F1：0.628\n",
      "1 : 19\n",
      "train_set size: 2294\n",
      "including positive case: 114\n",
      "including negative case : 2180\n",
      "test_set size: 1000\n",
      "including positive case: 400\n",
      "including negative case : 600\n",
      "F1：0.553\n",
      "1 : 20\n",
      "train_set size: 2294\n",
      "including positive case: 109\n",
      "including negative case : 2185\n",
      "test_set size: 1000\n",
      "including positive case: 400\n",
      "including negative case : 600\n",
      "F1：0.628\n",
      "1 : 21\n",
      "train_set size: 2294\n",
      "including positive case: 104\n",
      "including negative case : 2190\n",
      "test_set size: 1000\n",
      "including positive case: 400\n",
      "including negative case : 600\n",
      "F1：0.571\n",
      "1 : 22\n",
      "train_set size: 2294\n",
      "including positive case: 99\n",
      "including negative case : 2195\n",
      "test_set size: 1000\n",
      "including positive case: 400\n",
      "including negative case : 600\n",
      "F1：0.467\n",
      "1 : 23\n",
      "train_set size: 2294\n",
      "including positive case: 95\n",
      "including negative case : 2199\n",
      "test_set size: 1000\n",
      "including positive case: 400\n",
      "including negative case : 600\n",
      "F1：0.561\n",
      "1 : 24\n",
      "train_set size: 2294\n",
      "including positive case: 91\n",
      "including negative case : 2203\n",
      "test_set size: 1000\n",
      "including positive case: 400\n",
      "including negative case : 600\n",
      "F1：0.545\n",
      "1 : 25\n",
      "train_set size: 2294\n",
      "including positive case: 88\n",
      "including negative case : 2206\n",
      "test_set size: 1000\n",
      "including positive case: 400\n",
      "including negative case : 600\n",
      "F1：0.548\n",
      "1 : 26\n",
      "train_set size: 2294\n",
      "including positive case: 84\n",
      "including negative case : 2210\n",
      "test_set size: 1000\n",
      "including positive case: 400\n",
      "including negative case : 600\n",
      "F1：0.524\n",
      "1 : 27\n",
      "train_set size: 2294\n",
      "including positive case: 81\n",
      "including negative case : 2213\n",
      "test_set size: 1000\n",
      "including positive case: 400\n",
      "including negative case : 600\n",
      "F1：0.499\n",
      "1 : 28\n",
      "train_set size: 2294\n",
      "including positive case: 79\n",
      "including negative case : 2215\n",
      "test_set size: 1000\n",
      "including positive case: 400\n",
      "including negative case : 600\n",
      "F1：0.519\n",
      "1 : 29\n",
      "train_set size: 2294\n",
      "including positive case: 76\n",
      "including negative case : 2218\n",
      "test_set size: 1000\n",
      "including positive case: 400\n",
      "including negative case : 600\n",
      "F1：0.428\n",
      "1 : 30\n",
      "train_set size: 2294\n",
      "including positive case: 74\n",
      "including negative case : 2220\n",
      "test_set size: 1000\n",
      "including positive case: 400\n",
      "including negative case : 600\n",
      "F1：0.357\n",
      "1 : 31\n",
      "train_set size: 2294\n",
      "including positive case: 71\n",
      "including negative case : 2223\n",
      "test_set size: 1000\n",
      "including positive case: 400\n",
      "including negative case : 600\n",
      "F1：0.513\n",
      "1 : 32\n",
      "train_set size: 2294\n",
      "including positive case: 69\n",
      "including negative case : 2225\n",
      "test_set size: 1000\n",
      "including positive case: 400\n",
      "including negative case : 600\n",
      "F1：0.464\n",
      "1 : 33\n",
      "train_set size: 2294\n",
      "including positive case: 67\n",
      "including negative case : 2227\n",
      "test_set size: 1000\n",
      "including positive case: 400\n",
      "including negative case : 600\n",
      "F1：0.450\n",
      "1 : 34\n",
      "train_set size: 2294\n",
      "including positive case: 65\n",
      "including negative case : 2229\n",
      "test_set size: 1000\n",
      "including positive case: 400\n",
      "including negative case : 600\n",
      "F1：0.444\n",
      "1 : 35\n",
      "train_set size: 2294\n",
      "including positive case: 63\n",
      "including negative case : 2231\n",
      "test_set size: 1000\n",
      "including positive case: 400\n",
      "including negative case : 600\n",
      "F1：0.377\n",
      "1 : 36\n",
      "train_set size: 2294\n",
      "including positive case: 62\n",
      "including negative case : 2232\n",
      "test_set size: 1000\n",
      "including positive case: 400\n",
      "including negative case : 600\n",
      "F1：0.371\n",
      "1 : 37\n",
      "train_set size: 2294\n",
      "including positive case: 60\n",
      "including negative case : 2234\n",
      "test_set size: 1000\n",
      "including positive case: 400\n",
      "including negative case : 600\n",
      "F1：0.410\n",
      "1 : 38\n",
      "train_set size: 2294\n",
      "including positive case: 58\n",
      "including negative case : 2236\n",
      "test_set size: 1000\n",
      "including positive case: 400\n",
      "including negative case : 600\n",
      "F1：0.406\n",
      "1 : 39\n",
      "train_set size: 2294\n",
      "including positive case: 57\n",
      "including negative case : 2237\n",
      "test_set size: 1000\n",
      "including positive case: 400\n",
      "including negative case : 600\n",
      "F1：0.416\n",
      "1 : 40\n",
      "train_set size: 2294\n",
      "including positive case: 55\n",
      "including negative case : 2239\n",
      "test_set size: 1000\n",
      "including positive case: 400\n",
      "including negative case : 600\n",
      "F1：0.344\n",
      "1 : 41\n",
      "train_set size: 2294\n",
      "including positive case: 54\n",
      "including negative case : 2240\n",
      "test_set size: 1000\n",
      "including positive case: 400\n",
      "including negative case : 600\n",
      "F1：0.422\n",
      "1 : 42\n",
      "train_set size: 2294\n",
      "including positive case: 53\n",
      "including negative case : 2241\n",
      "test_set size: 1000\n",
      "including positive case: 400\n",
      "including negative case : 600\n",
      "F1：0.265\n",
      "1 : 43\n",
      "train_set size: 2294\n",
      "including positive case: 52\n",
      "including negative case : 2242\n",
      "test_set size: 1000\n",
      "including positive case: 400\n",
      "including negative case : 600\n",
      "F1：0.387\n",
      "1 : 44\n",
      "train_set size: 2294\n",
      "including positive case: 50\n",
      "including negative case : 2244\n",
      "test_set size: 1000\n",
      "including positive case: 400\n",
      "including negative case : 600\n",
      "F1：0.403\n",
      "1 : 45\n",
      "train_set size: 2294\n",
      "including positive case: 49\n",
      "including negative case : 2245\n",
      "test_set size: 1000\n",
      "including positive case: 400\n",
      "including negative case : 600\n",
      "F1：0.218\n",
      "1 : 46\n",
      "train_set size: 2294\n",
      "including positive case: 48\n",
      "including negative case : 2246\n",
      "test_set size: 1000\n",
      "including positive case: 400\n",
      "including negative case : 600\n",
      "F1：0.291\n",
      "1 : 47\n",
      "train_set size: 2294\n",
      "including positive case: 47\n",
      "including negative case : 2247\n",
      "test_set size: 1000\n",
      "including positive case: 400\n",
      "including negative case : 600\n"
     ]
    },
    {
     "name": "stdout",
     "output_type": "stream",
     "text": [
      "F1：0.312\n",
      "1 : 48\n",
      "train_set size: 2294\n",
      "including positive case: 46\n",
      "including negative case : 2248\n",
      "test_set size: 1000\n",
      "including positive case: 400\n",
      "including negative case : 600\n",
      "F1：0.344\n",
      "1 : 49\n",
      "train_set size: 2294\n",
      "including positive case: 45\n",
      "including negative case : 2249\n",
      "test_set size: 1000\n",
      "including positive case: 400\n",
      "including negative case : 600\n",
      "F1：0.387\n",
      "1 : 50\n",
      "train_set size: 2294\n",
      "including positive case: 44\n",
      "including negative case : 2250\n",
      "test_set size: 1000\n",
      "including positive case: 400\n",
      "including negative case : 600\n",
      "F1：0.340\n"
     ]
    }
   ],
   "source": [
    "F1_list = []\n",
    "precison_list = []\n",
    "recall_list = []\n",
    "for i in range(1, 51):\n",
    "    print(\"1 :\", i)\n",
    "    train_set_Xp, train_set_Yp, test_set_Xp, test_set_Yp = load_data_by_percentage(i)\n",
    "    \n",
    "    std = StandardScaler()\n",
    "    train_set_Xp = std.fit_transform(train_set_Xp)\n",
    "    test_set_Xp = std.fit_transform(test_set_Xp)\n",
    "    \n",
    "    nn_clf = MLPClassifier()\n",
    "    nn_clf.fit(train_set_Xp, train_set_Yp)\n",
    "    F1, precision, recall = get_score(nn_clf, test_set_Xp, test_set_Yp)\n",
    "    print(\"F1：%.3f\"%F1)\n",
    "    F1_list.append(F1)   \n",
    "    precison_list.append(precision)\n",
    "    recall_list.append(recall)"
   ]
  },
  {
   "cell_type": "markdown",
   "metadata": {},
   "source": [
    "绘制曲线进行观察"
   ]
  },
  {
   "cell_type": "code",
   "execution_count": 31,
   "metadata": {},
   "outputs": [
    {
     "data": {
      "image/png": "[encoded data removed]",
      "text/plain": [
       "<Figure size 432x288 with 1 Axes>"
      ]
     },
     "metadata": {
      "needs_background": "light"
     },
     "output_type": "display_data"
    }
   ],
   "source": [
    "x_axis = np.arange(1, 51, 1)\n",
    "y1 = F1_list\n",
    "y2 = precison_list\n",
    "y3 = recall_list\n",
    "plt.plot(x_axis, y1, linewidth=2.5, markersize=12)\n",
    "plt.plot(x_axis, y2, linewidth=2.5, markersize=12)\n",
    "plt.plot(x_axis, y3, linewidth=2.5, markersize=12)\n",
    "plt.xlabel(\"n\")# X轴的标签\n",
    "plt.ylabel(\"score\")# y轴的标签\n",
    "plt.legend([\"F1\",\"precision\", \"recall\"])# 写出图例，图例内容与画图顺序一致。\n",
    "# # 注意到，这里由于是两个或者两个以上的图例，需要用中括号表示,否则会显示出错\n",
    "plt.show()#这个一定要最后显示，如果在定义标题、坐标轴标签以及图例之前，在其后注明的可能并不会显示"
   ]
  },
  {
   "cell_type": "markdown",
   "metadata": {},
   "source": [
    "### novelty detection"
   ]
  },
  {
   "cell_type": "code",
   "execution_count": null,
   "metadata": {},
   "outputs": [],
   "source": []
  }
 ],
 "metadata": {
  "kernelspec": {
   "display_name": "Python 3",
   "language": "python",
   "name": "python3"
  },
  "language_info": {
   "codemirror_mode": {
    "name": "ipython",
    "version": 3
   },
   "file_extension": ".py",
   "mimetype": "text/x-python",
   "name": "python",
   "nbconvert_exporter": "python",
   "pygments_lexer": "ipython3",
   "version": "3.7.1"
  }
 },
 "nbformat": 4,
 "nbformat_minor": 2
}
